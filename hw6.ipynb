{
 "cells": [
  {
   "cell_type": "markdown",
   "metadata": {},
   "source": [
    "# MAS Final Homework Assignment\n",
    "Daniel Engbert, Dec 2022"
   ]
  },
  {
   "cell_type": "code",
   "execution_count": 27,
   "metadata": {},
   "outputs": [],
   "source": [
    "# helper function for use in code code below\n",
    "import random\n",
    "import numpy as np\n",
    "\n",
    "def set_seed(seed=42):\n",
    "  rng = random.Random()\n",
    "  if seed is None:\n",
    "    seed = random.randint(0, 9999)\n",
    "  rng.seed(seed)\n",
    "  np.random.seed(seed)"
   ]
  },
  {
   "cell_type": "markdown",
   "metadata": {},
   "source": [
    "## 1. Monte Carlo Estimation of Shapely Value\n",
    "\n",
    "First we compute the Shapely values for this problem for a small $n=4$.\n",
    "\n",
    "TODO: do this by hand, then add the math here as latex equations."
   ]
  },
  {
   "cell_type": "code",
   "execution_count": 28,
   "metadata": {},
   "outputs": [],
   "source": [
    "set_seed()\n",
    "\n"
   ]
  },
  {
   "cell_type": "markdown",
   "metadata": {},
   "source": [
    "---\n",
    "## 2. Monte Carlo Tree Search (MCTS)"
   ]
  },
  {
   "cell_type": "code",
   "execution_count": 29,
   "metadata": {},
   "outputs": [
    {
     "data": {
      "text/plain": [
       "3"
      ]
     },
     "execution_count": 29,
     "metadata": {},
     "output_type": "execute_result"
    },
    {
     "data": {
      "image/png": "[encoded data removed]",
      "text/plain": [
       "<Figure size 640x480 with 1 Axes>"
      ]
     },
     "metadata": {},
     "output_type": "display_data"
    }
   ],
   "source": [
    "import networkx as nx\n",
    "tree = nx.DiGraph()\n",
    "\n",
    "nx.draw(tree, with_labels=True, node_size=2000)\n",
    "set_seed()\n",
    "\n",
    "def edit_distance(add1: str, add2: str) -> int:\n",
    "    assert len(add1) == len(add2)\n",
    "    diff = 0\n",
    "    return sum([int(a1 != a2) for a1, a2 in zip(add1, add2)])\n",
    "\n",
    "edit_distance(\"RRLL\", \"RLRR\")"
   ]
  },
  {
   "cell_type": "markdown",
   "metadata": {},
   "source": [
    "---\n",
    "## RL: SARSA and Q-Learning"
   ]
  },
  {
   "cell_type": "code",
   "execution_count": 30,
   "metadata": {},
   "outputs": [
    {
     "data": {
      "text/plain": [
       "array([[0, 0, 0, 0, 0, 0, 0, 0, 0],\n",
       "       [0, 0, 1, 1, 1, 1, 1, 0, 0],\n",
       "       [0, 0, 0, 0, 0, 0, 1, 0, 0],\n",
       "       [0, 0, 0, 0, 0, 0, 1, 0, 0],\n",
       "       [0, 0, 0, 0, 0, 0, 1, 0, 0],\n",
       "       [0, 0, 0, 0, 0, 0, 0, 0, 0],\n",
       "       [0, 0, 0, 0, 0, 0, 0, 0, 0],\n",
       "       [0, 1, 1, 1, 1, 0, 0, 0, 0],\n",
       "       [0, 0, 0, 0, 0, 0, 0, 0, 3]])"
      ]
     },
     "metadata": {},
     "output_type": "display_data"
    }
   ],
   "source": [
    "import numpy as np\n",
    "\n",
    "EMPTY = 0\n",
    "WALL = 1\n",
    "SNAKES = 2\n",
    "TREASURE = 3\n",
    "\n",
    "def create_world():\n",
    "  world = np.zeros((9,9), dtype=int)\n",
    "  world[1, 2:7] = WALL\n",
    "  world[1:5, 6] = WALL\n",
    "  world[7, 1:5] = WALL\n",
    "  world[6:5] = SNAKES\n",
    "  world[-1, -1] = TREASURE\n",
    "  return world\n",
    "\n",
    "world = create_world()\n",
    "display(world)\n"
   ]
  },
  {
   "cell_type": "code",
   "execution_count": null,
   "metadata": {},
   "outputs": [],
   "source": []
  }
 ],
 "metadata": {
  "kernelspec": {
   "display_name": "Python 3.8.10 64-bit ('3.8.10')",
   "language": "python",
   "name": "python3"
  },
  "language_info": {
   "codemirror_mode": {
    "name": "ipython",
    "version": 3
   },
   "file_extension": ".py",
   "mimetype": "text/x-python",
   "name": "python",
   "nbconvert_exporter": "python",
   "pygments_lexer": "ipython3",
   "version": "3.8.10"
  },
  "orig_nbformat": 4,
  "vscode": {
   "interpreter": {
    "hash": "55248504fc6306bc428f0c6a9e8fd49a344da6a505c8898ab919d5037f2dd06b"
   }
  }
 },
 "nbformat": 4,
 "nbformat_minor": 2
}
