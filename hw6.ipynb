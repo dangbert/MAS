{
 "cells": [
  {
   "cell_type": "markdown",
   "metadata": {},
   "source": [
    "# MAS Final Homework Assignment\n",
    "Daniel Engbert, Dec 2022"
   ]
  },
  {
   "cell_type": "code",
   "execution_count": 11,
   "metadata": {},
   "outputs": [],
   "source": [
    "# helper function for use in code code below\n",
    "import random\n",
    "import numpy as np\n",
    "\n",
    "def set_seed(seed=42):\n",
    "  rng = random.Random()\n",
    "  if seed is None:\n",
    "    seed = random.randint(0, 9999)\n",
    "  rng.seed(seed)\n",
    "  np.random.seed(seed)"
   ]
  },
  {
   "cell_type": "markdown",
   "metadata": {},
   "source": [
    "## 1. Monte Carlo Estimation of Shapely Value\n",
    "\n",
    "How to fairly split a taxi fare across $\\{1, ... N\\}$ players can be calculated using [Shapely values](https://en.wikipedia.org/wiki/Shapley_value), which treats this scenario as a cooperative game.\n",
    "For this problem we assume that all players live on the way of the Nth player, and that player $A$ lives at distance of 1, player $B$ at a distance of 2, etc.\n",
    "\n",
    "### Computing Shapely values for $n=4$:\n",
    "The code below computes all permutations (a.k.a. \"coalitions\") of the $N=4$ players $\\{A, B, C, D\\}$, then for each permutation, `perm`, it assigns each player a share off the total payoff (the fare of total cost 4), by assuming player `perm[0]` showed up first at the taxi, followed by players `perm[1]`, `perm[2]`, `perm[3]`.\n",
    "\n",
    "For example, for the permutation `perm = ['A', 'C', 'B', 'D']`, the respective payoffs (fare splits) will be `{'A': 1, 'B': 0, 'C': 2, 'D': 1}` (here player $B$ pays 0 because by the time player he arrives at the taxi, it was already going to go by the his house anyways due to player $C$.)\n",
    "\n",
    "The final computed Shapely values are simply the average payoffs of each player across all possible permutations.\n"
   ]
  },
  {
   "cell_type": "code",
   "execution_count": 12,
   "metadata": {},
   "outputs": [
    {
     "name": "stdout",
     "output_type": "stream",
     "text": [
      "player_vals = \n",
      "{'A': 1, 'B': 2, 'C': 3, 'D': 4}\n",
      "there are 24 total permutations of 4 players:\n"
     ]
    },
    {
     "data": {
      "text/plain": [
       "[['A', 'B', 'C', 'D'],\n",
       " ['A', 'B', 'D', 'C'],\n",
       " ['A', 'C', 'B', 'D'],\n",
       " ['A', 'C', 'D', 'B'],\n",
       " ['A', 'D', 'B', 'C']]"
      ]
     },
     "metadata": {},
     "output_type": "display_data"
    },
    {
     "name": "stdout",
     "output_type": "stream",
     "text": [
      "(only first 5 rows of permutations are shown above)\n",
      "\n",
      "shapely_values: (for N = 4)\n",
      "{'A': 0.25, 'B': 0.5833333333333334, 'C': 1.0833333333333333, 'D': 2.0833333333333335}\n"
     ]
    }
   ],
   "source": [
    "def get_perms(arr):\n",
    "    \"\"\"returns a list of the possible permutations of the entries in the provided array.\"\"\"\n",
    "    all_perms = []\n",
    "    for p in arr:\n",
    "        other_elems = sorted(list(set(arr) - set([p])))\n",
    "        sub_perms = get_perms(other_elems)\n",
    "        if len(sub_perms) == 0:\n",
    "            all_perms.append([p])\n",
    "        else:\n",
    "            all_perms = all_perms + [[p] + perm for perm in sub_perms]\n",
    "    return all_perms\n",
    "\n",
    "def get_shapely(N):\n",
    "    player_vals = {chr(ord('A') + n): n+1 for n in range(0, N)}\n",
    "    #player_vals = {'A': 6, 'B': 12, 'C': 42} # should result in shapely values {2, 5, 35}\n",
    "    print(\"player_vals = \")\n",
    "    print(player_vals)\n",
    "    players = list(player_vals.keys())\n",
    "\n",
    "    # list of permutations of coalitions of size len(players)\n",
    "    perms = get_perms(players)\n",
    "    print(f\"there are {len(perms)} total permutations of {len(players)} players:\")\n",
    "    display(perms[:5]) # print first few rows\n",
    "    print('(only first 5 rows of permutations are shown above)')\n",
    "\n",
    "    running_payoffs = {p: 0 for p in players}\n",
    "    total_payoff = max(player_vals.values())\n",
    "    for perm in perms:\n",
    "        cur = {p: 0 for p in players}\n",
    "        for p in perm: # compute share of payoff for each player in this permutation\n",
    "            cur[p] = max(0, player_vals[p] - sum(cur.values()))\n",
    "        running_payoffs = {k: v+cur[k] for (k,v) in running_payoffs.items()}\n",
    "\n",
    "    shapely_values = {k: v/len(perms) for (k,v) in running_payoffs.items()}\n",
    "    print(f\"\\nshapely_values: (for N = {N})\")\n",
    "    print(shapely_values)\n",
    "\n",
    "    #print('percent of payoff:')\n",
    "    #print({k: v/total_payoff for (k,v) in shapely_values.items()})\n",
    "\n",
    "get_shapely(4)"
   ]
  },
  {
   "cell_type": "markdown",
   "metadata": {},
   "source": [
    "As can be seen from the output, the shapely values for $n=4$ players is `{'A': 0.25, 'B': 0.583, 'C': 1.083, 'D': 2.083}`\n",
    "\n",
    "### Estimating Shapely values for $n=100$\n",
    "Here we use [Monte Carlo sampling](https://en.wikipedia.org/wiki/Monte_Carlo_method) to approximiate the Shapely values for the taxi fare problem when $n=100$."
   ]
  },
  {
   "cell_type": "markdown",
   "metadata": {},
   "source": [
    "---\n",
    "## 2. Monte Carlo Tree Search (MCTS)"
   ]
  },
  {
   "cell_type": "code",
   "execution_count": 13,
   "metadata": {},
   "outputs": [
    {
     "data": {
      "text/plain": [
       "3"
      ]
     },
     "execution_count": 13,
     "metadata": {},
     "output_type": "execute_result"
    }
   ],
   "source": [
    "import networkx as nx\n",
    "import importlib\n",
    "import tree_search as ts\n",
    "importlib.reload(ts)\n",
    "\n",
    "#set_seed()\n",
    "\n",
    "tree = ts.create_tree(3)\n",
    "\n",
    "#nx.draw(tree, with_labels=True, node_size=300)\n",
    "\n",
    "\n",
    "ts.edit_distance(\"RRLL\", \"RLRR\")"
   ]
  },
  {
   "cell_type": "markdown",
   "metadata": {},
   "source": [
    "---\n",
    "## RL: SARSA and Q-Learning"
   ]
  },
  {
   "cell_type": "code",
   "execution_count": 14,
   "metadata": {},
   "outputs": [
    {
     "data": {
      "text/plain": [
       "array([[0, 0, 0, 0, 0, 0, 0, 0, 0],\n",
       "       [0, 0, 1, 1, 1, 1, 1, 0, 0],\n",
       "       [0, 0, 0, 0, 0, 0, 1, 0, 0],\n",
       "       [0, 0, 0, 0, 0, 0, 1, 0, 0],\n",
       "       [0, 0, 0, 0, 0, 0, 1, 0, 0],\n",
       "       [0, 0, 0, 0, 0, 0, 0, 0, 0],\n",
       "       [0, 0, 0, 0, 0, 0, 0, 0, 0],\n",
       "       [0, 1, 1, 1, 1, 0, 0, 0, 0],\n",
       "       [0, 0, 0, 0, 0, 0, 0, 0, 3]])"
      ]
     },
     "metadata": {},
     "output_type": "display_data"
    }
   ],
   "source": [
    "import numpy as np\n",
    "\n",
    "EMPTY = 0\n",
    "WALL = 1\n",
    "SNAKES = 2\n",
    "TREASURE = 3\n",
    "\n",
    "def create_world():\n",
    "  world = np.zeros((9,9), dtype=int)\n",
    "  world[1, 2:7] = WALL\n",
    "  world[1:5, 6] = WALL\n",
    "  world[7, 1:5] = WALL\n",
    "  world[6:5] = SNAKES\n",
    "  world[-1, -1] = TREASURE\n",
    "  return world\n",
    "\n",
    "world = create_world()\n",
    "display(world)\n"
   ]
  },
  {
   "cell_type": "code",
   "execution_count": null,
   "metadata": {},
   "outputs": [],
   "source": []
  }
 ],
 "metadata": {
  "kernelspec": {
   "display_name": "Python 3.8.10 64-bit ('3.8.10')",
   "language": "python",
   "name": "python3"
  },
  "language_info": {
   "codemirror_mode": {
    "name": "ipython",
    "version": 3
   },
   "file_extension": ".py",
   "mimetype": "text/x-python",
   "name": "python",
   "nbconvert_exporter": "python",
   "pygments_lexer": "ipython3",
   "version": "3.8.10"
  },
  "orig_nbformat": 4,
  "vscode": {
   "interpreter": {
    "hash": "55248504fc6306bc428f0c6a9e8fd49a344da6a505c8898ab919d5037f2dd06b"
   }
  }
 },
 "nbformat": 4,
 "nbformat_minor": 2
}
