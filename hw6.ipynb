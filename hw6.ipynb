{
 "cells": [
  {
   "cell_type": "markdown",
   "metadata": {},
   "source": [
    "# MAS Final Homework Assignment\n",
    "Daniel Engbert, Dec 2022"
   ]
  },
  {
   "cell_type": "code",
   "execution_count": 2,
   "metadata": {},
   "outputs": [],
   "source": [
    "# helper function for use in code code below\n",
    "import random\n",
    "import numpy as np\n",
    "\n",
    "def set_seed(seed=42):\n",
    "  rng = random.Random()\n",
    "  if seed is None:\n",
    "    seed = random.randint(0, 9999)\n",
    "  rng.seed(seed)\n",
    "  np.random.seed(seed)"
   ]
  },
  {
   "cell_type": "markdown",
   "metadata": {},
   "source": [
    "## 1. Monte Carlo Estimation of Shapely Value\n",
    "\n",
    "First we compute the Shapely values for this problem for a small $n=4$.\n",
    "\n",
    "TODO: do this by hand, then add the math here as latex equations."
   ]
  },
  {
   "cell_type": "code",
   "execution_count": 23,
   "metadata": {},
   "outputs": [
    {
     "name": "stdout",
     "output_type": "stream",
     "text": [
      "permutations:\n"
     ]
    },
    {
     "data": {
      "text/plain": [
       "[['A', 'B', 'C', 'D'],\n",
       " ['A', 'B', 'D', 'C'],\n",
       " ['A', 'C', 'B', 'D'],\n",
       " ['A', 'C', 'D', 'B'],\n",
       " ['A', 'D', 'B', 'C'],\n",
       " ['A', 'D', 'C', 'B'],\n",
       " ['B', 'A', 'C', 'D'],\n",
       " ['B', 'A', 'D', 'C'],\n",
       " ['B', 'C', 'A', 'D'],\n",
       " ['B', 'C', 'D', 'A'],\n",
       " ['B', 'D', 'A', 'C'],\n",
       " ['B', 'D', 'C', 'A'],\n",
       " ['C', 'A', 'B', 'D'],\n",
       " ['C', 'A', 'D', 'B'],\n",
       " ['C', 'B', 'A', 'D'],\n",
       " ['C', 'B', 'D', 'A'],\n",
       " ['C', 'D', 'A', 'B'],\n",
       " ['C', 'D', 'B', 'A'],\n",
       " ['D', 'A', 'B', 'C'],\n",
       " ['D', 'A', 'C', 'B'],\n",
       " ['D', 'B', 'A', 'C'],\n",
       " ['D', 'B', 'C', 'A'],\n",
       " ['D', 'C', 'A', 'B'],\n",
       " ['D', 'C', 'B', 'A']]"
      ]
     },
     "metadata": {},
     "output_type": "display_data"
    },
    {
     "name": "stdout",
     "output_type": "stream",
     "text": [
      "there are 24 total permutations of 4 players\n"
     ]
    },
    {
     "data": {
      "text/plain": [
       "\"\\n#for csize in range(len(players)):\\n#    for \\n\\n\\n#N = 3\\nN = len(coalitions.keys())\\n\\n\\nfor csize in range(2, N+1):\\n    # build all coalitions of size csize\\n    # iterate over all coalitions of length csize-1\\n    for co in [k for k in coalitions.keys() if len(k.split(',')) == csize-1]:\\n        elems = set(co.split(','))\\n        for p in players:\\n            if p in elems:\\n                continue\\n            new_co = elems()\\n\\n\\n    #for n in range(N):\\n    #    key = str(n)\\n    #    coalitions.add(n),\\n\""
      ]
     },
     "execution_count": 23,
     "metadata": {},
     "output_type": "execute_result"
    }
   ],
   "source": [
    "set_seed()\n",
    "\n",
    "coalitions = {'A': 1, 'B': 2, 'C': 3, 'D': 4}\n",
    "players = list(coalitions.keys())\n",
    "\n",
    "def get_perms(arr):\n",
    "    if len(arr) == 0:\n",
    "        return []\n",
    "    all_perms = []\n",
    "    for p in arr:\n",
    "        other_elems = list(set(arr) - set([p]))\n",
    "        other_elems.sort()\n",
    "        sub_perms = get_perms(other_elems)\n",
    "        if len(sub_perms) == 0:\n",
    "            all_perms.append([p])\n",
    "        else:\n",
    "            all_perms = all_perms + [[p] + perm for perm in sub_perms]\n",
    "    return all_perms\n",
    "\n",
    "# list of permutations of coalitions of size len(players)\n",
    "perms = get_perms(players)\n",
    "\n",
    "print('permutations:')\n",
    "display(perms)\n",
    "print(f\"there are {len(perms)} total permutations of {len(players)} players\")\n"
   ]
  },
  {
   "cell_type": "code",
   "execution_count": null,
   "metadata": {},
   "outputs": [],
   "source": []
  },
  {
   "cell_type": "markdown",
   "metadata": {},
   "source": [
    "---\n",
    "## 2. Monte Carlo Tree Search (MCTS)"
   ]
  },
  {
   "cell_type": "code",
   "execution_count": 4,
   "metadata": {},
   "outputs": [
    {
     "data": {
      "text/plain": [
       "3"
      ]
     },
     "execution_count": 4,
     "metadata": {},
     "output_type": "execute_result"
    },
    {
     "data": {
      "image/png": "[encoded data removed]",
      "text/plain": [
       "<Figure size 640x480 with 1 Axes>"
      ]
     },
     "metadata": {},
     "output_type": "display_data"
    }
   ],
   "source": [
    "import networkx as nx\n",
    "tree = nx.DiGraph()\n",
    "\n",
    "nx.draw(tree, with_labels=True, node_size=2000)\n",
    "set_seed()\n",
    "\n",
    "def edit_distance(add1: str, add2: str) -> int:\n",
    "    assert len(add1) == len(add2)\n",
    "    diff = 0\n",
    "    return sum([int(a1 != a2) for a1, a2 in zip(add1, add2)])\n",
    "\n",
    "edit_distance(\"RRLL\", \"RLRR\")"
   ]
  },
  {
   "cell_type": "markdown",
   "metadata": {},
   "source": [
    "---\n",
    "## RL: SARSA and Q-Learning"
   ]
  },
  {
   "cell_type": "code",
   "execution_count": 5,
   "metadata": {},
   "outputs": [
    {
     "data": {
      "text/plain": [
       "array([[0, 0, 0, 0, 0, 0, 0, 0, 0],\n",
       "       [0, 0, 1, 1, 1, 1, 1, 0, 0],\n",
       "       [0, 0, 0, 0, 0, 0, 1, 0, 0],\n",
       "       [0, 0, 0, 0, 0, 0, 1, 0, 0],\n",
       "       [0, 0, 0, 0, 0, 0, 1, 0, 0],\n",
       "       [0, 0, 0, 0, 0, 0, 0, 0, 0],\n",
       "       [0, 0, 0, 0, 0, 0, 0, 0, 0],\n",
       "       [0, 1, 1, 1, 1, 0, 0, 0, 0],\n",
       "       [0, 0, 0, 0, 0, 0, 0, 0, 3]])"
      ]
     },
     "metadata": {},
     "output_type": "display_data"
    }
   ],
   "source": [
    "import numpy as np\n",
    "\n",
    "EMPTY = 0\n",
    "WALL = 1\n",
    "SNAKES = 2\n",
    "TREASURE = 3\n",
    "\n",
    "def create_world():\n",
    "  world = np.zeros((9,9), dtype=int)\n",
    "  world[1, 2:7] = WALL\n",
    "  world[1:5, 6] = WALL\n",
    "  world[7, 1:5] = WALL\n",
    "  world[6:5] = SNAKES\n",
    "  world[-1, -1] = TREASURE\n",
    "  return world\n",
    "\n",
    "world = create_world()\n",
    "display(world)\n"
   ]
  },
  {
   "cell_type": "code",
   "execution_count": null,
   "metadata": {},
   "outputs": [],
   "source": []
  }
 ],
 "metadata": {
  "kernelspec": {
   "display_name": "Python 3.8.10 64-bit ('3.8.10')",
   "language": "python",
   "name": "python3"
  },
  "language_info": {
   "codemirror_mode": {
    "name": "ipython",
    "version": 3
   },
   "file_extension": ".py",
   "mimetype": "text/x-python",
   "name": "python",
   "nbconvert_exporter": "python",
   "pygments_lexer": "ipython3",
   "version": "3.8.10"
  },
  "orig_nbformat": 4,
  "vscode": {
   "interpreter": {
    "hash": "55248504fc6306bc428f0c6a9e8fd49a344da6a505c8898ab919d5037f2dd06b"
   }
  }
 },
 "nbformat": 4,
 "nbformat_minor": 2
}
