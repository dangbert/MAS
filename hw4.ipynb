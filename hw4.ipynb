{
 "cells": [
  {
   "cell_type": "markdown",
   "metadata": {},
   "source": []
  },
  {
   "cell_type": "code",
   "execution_count": 2,
   "metadata": {},
   "outputs": [],
   "source": [
    "# setup\n",
    "import math\n",
    "import statistics\n",
    "import numpy as np\n",
    "import matplotlib.pyplot as plt\n",
    "from scipy import stats\n",
    "\n",
    "import random\n",
    "\n",
    "\n",
    "def set_seed():\n",
    "  rng = random.Random()\n",
    "  rng.seed(42)\n",
    "  # TODO: seed np too...\n"
   ]
  },
  {
   "cell_type": "code",
   "execution_count": 3,
   "metadata": {},
   "outputs": [
    {
     "name": "stdout",
     "output_type": "stream",
     "text": [
      "avg = 0.5666, stdev = 0.3468, standard_err_to_mean = 0.0035\n"
     ]
    },
    {
     "data": {
      "text/plain": [
       "<Figure size 432x288 with 0 Axes>"
      ]
     },
     "metadata": {},
     "output_type": "display_data"
    },
    {
     "data": {
      "image/png": "[encoded data removed]",
      "text/plain": [
       "<Figure size 360x360 with 1 Axes>"
      ]
     },
     "metadata": {
      "needs_background": "light"
     },
     "output_type": "display_data"
    }
   ],
   "source": [
    "# 4.1 part 1\n",
    "n = 1000\n",
    "assumed_corr = 0.3\n",
    "\n",
    "pvals = []\n",
    "corrs = []\n",
    "for _ in range(n):\n",
    "  # sample two sets of values that come from the same distribution\n",
    "  #   (any distribution as long as its the same)\n",
    "  a_vals = np.random.normal(size=10)\n",
    "  s_vals = np.random.normal(size=10)\n",
    "\n",
    "  # compute (perasons's) correlation of these values\n",
    "  #   https://machinelearningmastery.com/how-to-use-correlation-to-understand-the-relationship-between-variables/\n",
    "  corr, p_val = stats.pearsonr(s_vals, a_vals)\n",
    "\n",
    "  # compute p-val of likelihood the assumed_corr is true\n",
    "  #  (using independent sample t-test to compare 2 samples of unknown distributions)\n",
    "  pvals.append(p_val)\n",
    "  corrs.append(corr)\n",
    "\n",
    "avg = sumpvals) / n\n",
    "# stdev = statistics.stdev(pvals)\n",
    "\n",
    "print(f\"pvals: avg = {avg:.4f}\")\n",
    "\n",
    "# plt.clf()\n",
    "# fig, ax = plt.subplots()\n",
    "# plt.gcf().set_size_inches(5,5)\n",
    "\n",
    "# ax.set(xlabel=\"sampled pval\", ylabel=\"count\", title=\"Histogram of Sampled P-Vals\")\n",
    "# ax.grid()\n",
    "# ax.hist(pvals, bins=20)\n",
    "#plt.show()\n",
    "\n",
    "plt.clf()\n",
    "fig, ax = plt.subplots()\n",
    "plt.gcf().set_size_inches(5,5)\n",
    "\n",
    "\n",
    "\n",
    "ax.set(xlabel=\"sampled correlations\", ylabel=\"count\", title=\"Histogram of Sampled Correlations\")\n",
    "ax.grid()\n",
    "ax.hist(corrs, bins=20)\n",
    "plt.show()\n",
    "\n",
    "\n",
    "\n",
    "# func to sample from\n",
    "def func(x):\n",
    "  return math.cos(x) ** 2\n",
    "\n",
    "# num samples\n",
    "n = 10000\n",
    "\n",
    "xs = [np.random.normal() for _ in range(n)]\n",
    "samples = [func(x) for x in xs]\n",
    "\n",
    "avg = sum(samples) / n\n",
    "stdev = statistics.stdev(samples)\n",
    "# https://docs.scipy.org/doc/scipy/reference/generated/scipy.stats.sem.html\n",
    "std_err_to_mean = stats.sem(samples)\n",
    "print(f'avg = {avg:.4f}, stdev = {stdev:.4f}, standard_err_to_mean = {std_err_to_mean:.4f}')\n",
    "\n",
    "\n",
    "plt.clf()\n",
    "fig, ax = plt.subplots()\n",
    "plt.gcf().set_size_inches(5,5)\n",
    "\n",
    "ax.set(xlabel=\"sampled value\", ylabel=\"count\", title=\"Histogram of Sampled Function Values\")\n",
    "ax.grid()\n",
    "ax.hist(samples, bins=20)\n",
    "plt.show()"
   ]
  },
  {
   "cell_type": "code",
   "execution_count": 12,
   "metadata": {},
   "outputs": [
    {
     "name": "stdout",
     "output_type": "stream",
     "text": [
      "corrs: avg = -0.0245\n"
     ]
    },
    {
     "data": {
      "image/png": "[encoded data removed]",
      "text/plain": [
       "<Figure size 432x288 with 1 Axes>"
      ]
     },
     "metadata": {
      "needs_background": "light"
     },
     "output_type": "display_data"
    }
   ],
   "source": [
    "# 4.1 part2\n",
    "\n",
    "#set_seed()\n",
    "\n",
    "n = 1000\n",
    "assumed_corr = 0.3\n",
    "\n",
    "pvals = []\n",
    "corrs = []\n",
    "for _ in range(n):\n",
    "  # sample two sets of values that come from the same distribution\n",
    "  #   (any distribution as long as its the same)\n",
    "  a_vals = np.random.normal(size=10)\n",
    "  s_vals = np.random.normal(size=10)\n",
    "\n",
    "  # compute (perasons's) correlation of these values\n",
    "  #   https://machinelearningmastery.com/how-to-use-correlation-to-understand-the-relationship-between-variables/\n",
    "  corr, p_val = stats.pearsonr(s_vals, a_vals)\n",
    "\n",
    "  # compute p-val of likelihood the assumed_corr is true\n",
    "  #  (using independent sample t-test to compare 2 samples of unknown distributions)\n",
    "  # print(t_stat)\n",
    "  # print(p_val)\n",
    "  pvals.append(p_val)\n",
    "  corrs.append(corr)\n",
    "\n",
    "# print(pvals)\n",
    "#print(corrs)\n",
    "# t_stat, p_val = stats.ttest_ind(corrs, [assumed_corr]*n, equal_var=False)\n",
    "\n",
    "# print(p_val)\n",
    "# get average pval\n",
    "avg = sum(corrs) / n\n",
    "# stdev = statistics.stdev(pvals)\n",
    "\n",
    "print(f\"corrs: avg = {avg:.4f}\")\n",
    "\n",
    "# plt.clf()\n",
    "# fig, ax = plt.subplots()\n",
    "# plt.gcf().set_size_inches(5,5)\n",
    "\n",
    "# ax.set(xlabel=\"sampled pval\", ylabel=\"count\", title=\"Histogram of Sampled P-Vals\")\n",
    "# ax.grid()\n",
    "# ax.hist(pvals, bins=20)\n",
    "#plt.show()\n",
    "\n",
    "# plt.clf()\n",
    "fig, ax = plt.subplots()\n",
    "# plt.gcf().set_size_inches(5,5)\n",
    "\n",
    "ax.set(xlabel=\"sampled correlations\", ylabel=\"count\", title=\"Histogram of Sampled Correlations\")\n",
    "ax.grid()\n",
    "ax.hist(corrs, bins=20)\n",
    "plt.show()\n",
    "\n",
    "# TODO: now do a t test?"
   ]
  },
  {
   "cell_type": "code",
   "execution_count": null,
   "metadata": {},
   "outputs": [
    {
     "data": {
      "text/plain": [
       "array([-2.54860533,  3.85377568, -0.12880353, -0.50628807, -3.72216184,\n",
       "        3.08656657, -3.5487517 , -4.0805042 , -4.98778011,  3.67360113,\n",
       "        3.58427278, -3.47307483,  0.28358581,  0.55970058, -3.45682971,\n",
       "        3.88605746, -4.910705  ,  0.26497476, -4.83779406,  4.83878614,\n",
       "        1.30806517,  0.10999916,  3.59438792, -2.09054725,  0.62329233,\n",
       "       -3.11634149, -2.26469021,  4.07305608, -3.77279308, -3.40630307,\n",
       "       -1.03425185,  1.15876446, -1.5886249 , -1.94744967, -1.32921006,\n",
       "        0.51833207, -1.63455408,  2.35935429,  0.49903779,  0.94951089,\n",
       "       -3.0376717 , -2.26400291,  0.1959702 , -4.59303024,  0.39279163,\n",
       "       -2.89745794, -0.29862187,  3.36726201, -1.21520969, -1.07023209,\n",
       "       -0.23755208,  3.05729723, -2.19749411,  4.63164984, -3.66284952,\n",
       "       -1.27416284, -2.35343097, -0.28116924, -0.29529595,  1.28206869,\n",
       "       -3.43944634, -0.75353451,  4.86361082, -4.8182025 ,  1.37022619,\n",
       "        0.29249774, -2.15611566, -4.53673213,  0.63907003,  0.49831236,\n",
       "       -2.15912861, -1.19280453,  3.33654815,  4.22751074,  0.83607069,\n",
       "       -3.77513548, -2.30804234,  0.3255391 ,  0.724276  , -4.79960448,\n",
       "        2.53174245, -3.95893926,  2.49992092,  0.26457812,  1.65720005,\n",
       "       -2.92358372, -4.82363224, -3.00686267, -2.17258483,  2.1924969 ,\n",
       "        2.16661176,  2.94028636,  1.5347758 , -2.57927971, -3.43493261,\n",
       "        3.33319695, -4.6487022 , -3.08150682,  1.73354849,  0.49069526])"
      ]
     },
     "execution_count": 5,
     "metadata": {},
     "output_type": "execute_result"
    }
   ],
   "source": [
    "# problem 4.2\n",
    "import random\n",
    "rng = random.Random()\n",
    "rng.seed(42)\n",
    "\n",
    "def func(x):\n",
    "  return x ** 2\n",
    "\n",
    "n = 100\n",
    "xs = np.random.uniform(-5.0, 5.0, n)\n",
    "\n",
    "xs\n",
    "\n",
    "\n",
    "\n",
    "\n"
   ]
  }
 ],
 "metadata": {
  "kernelspec": {
   "display_name": "Python 3.10.6 64-bit",
   "language": "python",
   "name": "python3"
  },
  "language_info": {
   "codemirror_mode": {
    "name": "ipython",
    "version": 3
   },
   "file_extension": ".py",
   "mimetype": "text/x-python",
   "name": "python",
   "nbconvert_exporter": "python",
   "pygments_lexer": "ipython3",
   "version": "3.10.6"
  },
  "orig_nbformat": 4,
  "vscode": {
   "interpreter": {
    "hash": "916dbcbb3f70747c44a77c7bcd40155683ae19c65e1c03b4aa3499c5328201f1"
   }
  }
 },
 "nbformat": 4,
 "nbformat_minor": 2
}
