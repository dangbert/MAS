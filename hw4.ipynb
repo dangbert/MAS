{
 "cells": [
  {
   "cell_type": "markdown",
   "metadata": {},
   "source": []
  },
  {
   "cell_type": "code",
   "execution_count": 1,
   "metadata": {},
   "outputs": [],
   "source": [
    "# setup\n",
    "import math\n",
    "import statistics\n",
    "import numpy as np\n",
    "import matplotlib.pyplot as plt\n",
    "from scipy import stats\n",
    "\n",
    "import random\n",
    "\n",
    "\n",
    "def set_seed(seed=42):\n",
    "  rng = random.Random()\n",
    "  if seed is None:\n",
    "    seed = random.randint(0, 9999)\n",
    "  rng.seed(seed)\n",
    "  np.random.seed(seed)\n"
   ]
  },
  {
   "cell_type": "code",
   "execution_count": 2,
   "metadata": {},
   "outputs": [],
   "source": [
    "# 4.1 part 1\n",
    "set_seed()\n",
    "n = 1000\n",
    "# note I accidentally overwrote this part :/ (but already got the results)!"
   ]
  },
  {
   "cell_type": "code",
   "execution_count": 15,
   "metadata": {},
   "outputs": [
    {
     "name": "stdout",
     "output_type": "stream",
     "text": [
      "corrs: avg = 0.0009, stdev = 0.3386\n"
     ]
    },
    {
     "data": {
      "image/png": "[encoded data removed]",
      "text/plain": [
       "<Figure size 432x288 with 1 Axes>"
      ]
     },
     "metadata": {
      "needs_background": "light"
     },
     "output_type": "display_data"
    },
    {
     "name": "stdout",
     "output_type": "stream",
     "text": [
      "195/1000 had a correlation >= 0.3\n",
      "computed p-value: 0.1950\n"
     ]
    }
   ],
   "source": [
    "# 4.1 part2\n",
    "\n",
    "set_seed()\n",
    "#set_seed(None)\n",
    "\n",
    "n = 1000\n",
    "assumed_corr = 0.3\n",
    "\n",
    "pvals = []\n",
    "corrs = []\n",
    "for _ in range(n):\n",
    "  # sample two sets of values that come from the same distribution\n",
    "  #   (any distribution as long as its the same)\n",
    "  a_vals = np.random.normal(size=10)\n",
    "  s_vals = np.random.normal(size=10)\n",
    "\n",
    "  # compute (perasons's) correlation of these values\n",
    "  #   https://machinelearningmastery.com/how-to-use-correlation-to-understand-the-relationship-between-variables/\n",
    "  corr, p_val = stats.pearsonr(s_vals, a_vals)\n",
    "\n",
    "  # compute p-val of likelihood the assumed_corr is true\n",
    "  #  (using independent sample t-test to compare 2 samples of unknown distributions)\n",
    "  # print(t_stat)\n",
    "  # print(p_val)\n",
    "  #pvals.append(p_val)\n",
    "  corrs.append(corr)\n",
    "\n",
    "# print(pvals)\n",
    "#print(corrs)\n",
    "# t_stat, p_val = stats.ttest_ind(corrs, [assumed_corr]*n, equal_var=False)\n",
    "\n",
    "# print(p_val)\n",
    "# get average pval\n",
    "avg = sum(corrs) / n\n",
    "stdev = statistics.stdev(corrs)\n",
    "\n",
    "print(f\"corrs: avg = {avg:.4f}, stdev = {stdev:.4f}\")\n",
    "\n",
    "# plt.clf()\n",
    "# fig, ax = plt.subplots()\n",
    "# plt.gcf().set_size_inches(5,5)\n",
    "\n",
    "# ax.set(xlabel=\"sampled pval\", ylabel=\"count\", title=\"Histogram of Sampled P-Vals\")\n",
    "# ax.grid()\n",
    "# ax.hist(pvals, bins=20)\n",
    "#plt.show()\n",
    "\n",
    "# plt.clf()\n",
    "fig, ax = plt.subplots()\n",
    "# plt.gcf().set_size_inches(5,5)\n",
    "\n",
    "ax.set(xlabel=\"sampled correlations\", ylabel=\"count\", title=\"Histogram of Sampled Correlations\")\n",
    "ax.grid()\n",
    "ax.hist(corrs, bins=20)\n",
    "plt.show()\n",
    "\n",
    "# we can compute a p value now\n",
    "#  count trials with a correlation >= assume_corr\n",
    "exceeded_trials = len([c for c in corrs if c >= assumed_corr])\n",
    "pval = exceeded_trials / n\n",
    "\n",
    "print(f\"{exceeded_trials}/{n} had a correlation >= {assumed_corr}\")\n",
    "print(f\"computed p-value: {pval:0.4f}\")\n"
   ]
  },
  {
   "cell_type": "code",
   "execution_count": 4,
   "metadata": {},
   "outputs": [
    {
     "data": {
      "text/plain": [
       "array([-1.25459881,  4.50714306,  2.31993942,  0.98658484, -3.4398136 ,\n",
       "       -3.4400548 , -4.41916388,  3.66176146,  1.01115012,  2.08072578,\n",
       "       -4.79415506,  4.69909852,  3.32442641, -2.87660889, -3.18175033,\n",
       "       -3.1659549 , -1.95757757,  0.24756432, -0.68054981, -2.0877086 ,\n",
       "        1.11852895, -3.60506139, -2.07855351, -1.33638157, -0.43930016,\n",
       "        2.85175961, -3.00326218,  0.14234438,  0.92414569, -4.53549587,\n",
       "        1.07544852, -3.29475876, -4.34948407,  4.48885537,  4.65632033,\n",
       "        3.08397348, -1.95386231, -4.02327886,  1.84233027, -0.59847506,\n",
       "       -3.77961765, -0.0482309 , -4.65611479,  4.09320402, -2.41220018,\n",
       "        1.62522284, -1.88288924,  0.20068021,  0.46710279, -3.15145544,\n",
       "        4.69584628,  2.75132823,  4.39498942,  3.9482735 ,  0.97899979,\n",
       "        4.21874235, -4.11507498, -3.04017138, -4.54772711, -1.74669669,\n",
       "       -1.1132271 , -2.28650968,  3.28737509, -1.43246673, -2.1906549 ,\n",
       "        0.42696083, -3.59075775,  3.02196981, -4.25449356,  4.86886937,\n",
       "        2.72244769, -3.01284318, -4.94477883,  3.15461428,  2.06857344,\n",
       "        2.29007168,  2.71270347, -4.25955348, -1.41534271, -3.8413094 ,\n",
       "        3.63103426,  1.23298127, -1.69101975, -4.3644165 , -1.89017678,\n",
       "       -1.74816678,  2.29606178,  1.37557471,  3.87212743, -0.27785075,\n",
       "       -3.80405754,  2.13244787,  2.60785049,  0.61277198,  2.7096718 ,\n",
       "       -0.06204404,  0.22732829, -0.72458982, -4.74580873, -3.92108573])"
      ]
     },
     "execution_count": 4,
     "metadata": {},
     "output_type": "execute_result"
    }
   ],
   "source": [
    "# problem 4.2\n",
    "set_seed()\n",
    "\n",
    "def func(x):\n",
    "  return x ** 2\n",
    "\n",
    "n = 100\n",
    "xs = np.random.uniform(-5.0, 5.0, n)\n",
    "\n",
    "xs\n",
    "\n",
    "\n",
    "\n",
    "\n"
   ]
  }
 ],
 "metadata": {
  "kernelspec": {
   "display_name": "Python 3.10.6 64-bit",
   "language": "python",
   "name": "python3"
  },
  "language_info": {
   "codemirror_mode": {
    "name": "ipython",
    "version": 3
   },
   "file_extension": ".py",
   "mimetype": "text/x-python",
   "name": "python",
   "nbconvert_exporter": "python",
   "pygments_lexer": "ipython3",
   "version": "3.10.6"
  },
  "orig_nbformat": 4,
  "vscode": {
   "interpreter": {
    "hash": "916dbcbb3f70747c44a77c7bcd40155683ae19c65e1c03b4aa3499c5328201f1"
   }
  }
 },
 "nbformat": 4,
 "nbformat_minor": 2
}
